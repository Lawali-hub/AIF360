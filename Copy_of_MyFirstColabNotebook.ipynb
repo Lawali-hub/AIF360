{
  "nbformat": 4,
  "nbformat_minor": 0,
  "metadata": {
    "colab": {
      "name": "Copy of MyFirstColabNotebook.ipynb",
      "provenance": [],
      "authorship_tag": "ABX9TyNhrLGwTrOmcJePVMSDx+BH",
      "include_colab_link": true
    },
    "kernelspec": {
      "name": "python3",
      "display_name": "Python 3"
    }
  },
  "cells": [
    {
      "cell_type": "markdown",
      "metadata": {
        "id": "view-in-github",
        "colab_type": "text"
      },
      "source": [
        "<a href=\"https://colab.research.google.com/github/Lawali-hub/AIF360/blob/master/Copy_of_MyFirstColabNotebook.ipynb\" target=\"_parent\"><img src=\"https://colab.research.google.com/assets/colab-badge.svg\" alt=\"Open In Colab\"/></a>"
      ]
    },
    {
      "cell_type": "code",
      "metadata": {
        "id": "GwlQ7hdwWxES"
      },
      "source": [
        "import time\r\n",
        "print(time.ctime())"
      ],
      "execution_count": null,
      "outputs": []
    },
    {
      "cell_type": "code",
      "metadata": {
        "colab": {
          "base_uri": "https://localhost:8080/"
        },
        "id": "lzNoJ6byZldH",
        "outputId": "61379aa4-3f65-42f5-a361-6568413cc26d"
      },
      "source": [
        "time.sleep(5)\r\n",
        "print (time.ctime())"
      ],
      "execution_count": null,
      "outputs": [
        {
          "output_type": "stream",
          "text": [
            "Thu Dec 31 02:05:26 2020\n"
          ],
          "name": "stdout"
        }
      ]
    },
    {
      "cell_type": "code",
      "metadata": {
        "id": "RUjIe0tSik2Q"
      },
      "source": [
        ""
      ],
      "execution_count": null,
      "outputs": []
    },
    {
      "cell_type": "markdown",
      "metadata": {
        "id": "2HK-pa3Cv3Cs"
      },
      "source": [
        "This is **bold**.\r\n",
        "This is *Italic*.\r\n",
        "This is ~strikethrough~."
      ]
    },
    {
      "cell_type": "markdown",
      "metadata": {
        "id": "0XH0pyLYubk_"
      },
      "source": [
        "This is **bold**.\r\n",
        "This is *Italic*.\r\n",
        "This is ~strikethrough~.\r\n"
      ]
    },
    {
      "cell_type": "markdown",
      "metadata": {
        "id": "ruZ9OFp1xb5o"
      },
      "source": [
        "$\\sqrt{3x-1}+(1+x)^2$"
      ]
    },
    {
      "cell_type": "code",
      "metadata": {
        "id": "dPGP4Jydx0_0"
      },
      "source": [
        ""
      ],
      "execution_count": null,
      "outputs": []
    },
    {
      "cell_type": "markdown",
      "metadata": {
        "id": "XVPvYNjh1GRN"
      },
      "source": [
        "$e^X=\\sum_{i=0}\\infty \\frac{1}{i!}X^i$"
      ]
    },
    {
      "cell_type": "code",
      "metadata": {
        "id": "pRf9PPy-18rp"
      },
      "source": [
        ""
      ],
      "execution_count": null,
      "outputs": []
    },
    {
      "cell_type": "markdown",
      "metadata": {
        "id": "bMidn4O22Ute"
      },
      "source": [
        "Constaints are\r\n",
        "\r\n",
        "- $3X_1 + 6X_2 + 6X_2 + X_3 =< 28$\r\n",
        "- $7X_1 + 3X_2 + 2X_3 =< 37$\r\n",
        "- $4X_1 + 5X_2 + 2X_3 =0 $"
      ]
    },
    {
      "cell_type": "code",
      "metadata": {
        "id": "MoSKrHWrgkfj"
      },
      "source": [
        ""
      ],
      "execution_count": null,
      "outputs": []
    },
    {
      "cell_type": "markdown",
      "metadata": {
        "id": "5r72EdiJjClw"
      },
      "source": [
        "The trial vector is calculated as follows:"
      ]
    },
    {
      "cell_type": "code",
      "metadata": {
        "id": "Tw3buzkCjKI3"
      },
      "source": [
        "- $u_i(t) = X_i(t) + \\beta(\\hat{X}(t) - X_i(t)) + \\beta \\sum_{k = 1}^{n_v} (X_{i1,k}(t) - X_{i2,k}(t))$\r\n",
        "\r\n",
        "$f(X_1, X_2) = 20 + e - 20exp(-0.2 \\sqrt {\\frac {1}{n} (X_1^2 + X_2^2)}) - exp(\\frac {1}{n}(cos(2\\pi X_1) + cos(2\\pi X_2))$\r\n",
        "                                                                               \r\n",
        "$X E [-5, 5]$     \r\n",
        "\r\n",
        ">$A_{m,n} = \r\n",
        " \\begin{pmatrix}\r\n",
        " a_{1,1} & a_{1,2} & \\cdots & a_{1,n} \\\\\r\n",
        " a_{2,1} & a_{2,2} & \\cdots & a_{2,n} \\\\\r\n",
        " \\vdots  & \\vdots  & \\ddots & \\vdots  \\\\\r\n",
        " a_{m,1} & a_{m,2} & \\cdots & a_{m,n}\r\n",
        " \\end{pmatrix}$"
      ],
      "execution_count": null,
      "outputs": []
    },
    {
      "cell_type": "code",
      "metadata": {
        "id": "NYY2Wv20cETG"
      },
      "source": [
        ""
      ],
      "execution_count": null,
      "outputs": []
    },
    {
      "cell_type": "code",
      "metadata": {
        "id": "k39s_ex48c_q"
      },
      "source": [
        ""
      ],
      "execution_count": null,
      "outputs": []
    },
    {
      "cell_type": "markdown",
      "metadata": {
        "id": "wtdMYir6cH4v"
      },
      "source": [
        "Google Colab - Saving Your Work"
      ]
    },
    {
      "cell_type": "code",
      "metadata": {
        "id": "aVBY2xUIcWhu"
      },
      "source": [
        ""
      ],
      "execution_count": null,
      "outputs": []
    }
  ]
}